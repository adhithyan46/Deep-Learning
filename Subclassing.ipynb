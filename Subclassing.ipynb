{
  "nbformat": 4,
  "nbformat_minor": 0,
  "metadata": {
    "colab": {
      "provenance": [],
      "authorship_tag": "ABX9TyPERM+8eCAzUI3E636BDANS",
      "include_colab_link": true
    },
    "kernelspec": {
      "name": "python3",
      "display_name": "Python 3"
    },
    "language_info": {
      "name": "python"
    }
  },
  "cells": [
    {
      "cell_type": "markdown",
      "metadata": {
        "id": "view-in-github",
        "colab_type": "text"
      },
      "source": [
        "<a href=\"https://colab.research.google.com/github/adhithyan46/Deep-Learning/blob/main/Subclassing.ipynb\" target=\"_parent\"><img src=\"https://colab.research.google.com/assets/colab-badge.svg\" alt=\"Open In Colab\"/></a>"
      ]
    },
    {
      "cell_type": "markdown",
      "source": [
        "# Custom layers and model using Subclassing\n",
        "* Inherit tf.keras.layers.layer for layers .\n",
        "* Inherit tf.keras.model for model.\n",
        "\n"
      ],
      "metadata": {
        "id": "vtI_K583GLDL"
      }
    },
    {
      "cell_type": "code",
      "execution_count": 1,
      "metadata": {
        "id": "uNnggzCpGCW3"
      },
      "outputs": [],
      "source": [
        "import tensorflow as tf"
      ]
    },
    {
      "cell_type": "markdown",
      "source": [
        "Defining a custom dense layer with custom initialization of weight and bias.\n",
        "\n",
        "---\n",
        "Overriding the __init__ method for layer attribute,\n",
        "* 'Build'  method for initializing weights and bias\n",
        "* 'Call' method for implementing forward pass"
      ],
      "metadata": {
        "id": "Y7J0wqC8MS3f"
      }
    },
    {
      "cell_type": "code",
      "source": [
        "class CustomDense(tf.keras.layers.Layer):\n",
        "    def __init__(self, units=32, **kwargs):  # **kwargs for passing custom arguments\n",
        "        super(CustomDense, self).__init__(**kwargs)\n",
        "        self.units = units  # storing the number of units as a class attribute\n",
        "\n",
        "    def build(self, input_shape):\n",
        "        # defining custom weights\n",
        "        self.w = self.add_weight(shape=(input_shape[-1], self.units),  # One weight for each unit\n",
        "                                 initializer='he_normal',  # He initializer for ReLU\n",
        "                                 trainable=True)\n",
        "        # defining custom bias\n",
        "        self.b = self.add_weight(shape=(self.units,),  # Shape should be a tuple\n",
        "                                 initializer='zeros',\n",
        "                                 trainable=True)\n",
        "\n",
        "    # implementing forward pass\n",
        "    def call(self, inputs):\n",
        "        return tf.matmul(inputs, self.w) + self.b  # multiplying each input with weight and adding bias (weighted sum)\n"
      ],
      "metadata": {
        "id": "1if5MTFrG_qL"
      },
      "execution_count": 2,
      "outputs": []
    },
    {
      "cell_type": "markdown",
      "source": [
        "Defining a custom reLu layer , This layer is only for applying the relu activation."
      ],
      "metadata": {
        "id": "I7WZxGzQNjcn"
      }
    },
    {
      "cell_type": "code",
      "source": [
        "class CustomReLu(tf.keras.layers.Layer):\n",
        "  def __init__(self,**kwargs):\n",
        "    super(CustomReLu,self).__init__(**kwargs)\n",
        "\n",
        "  def call(self,inputs):\n",
        "    return tf.maximum(0.0, inputs) #relu operation"
      ],
      "metadata": {
        "id": "xi2Swx3jH8f4"
      },
      "execution_count": 3,
      "outputs": []
    },
    {
      "cell_type": "markdown",
      "source": [
        "Defining custom model,Inheriting from tf.keras.Model"
      ],
      "metadata": {
        "id": "vpxUcOTYSYWm"
      }
    },
    {
      "cell_type": "code",
      "source": [
        "class MyCustomModel(tf.keras.Model):\n",
        "  def __init__(self,units,output_dim):\n",
        "    super(MyCustomModel,self).__init__()\n",
        "    self.dense1 = CustomDense(units)\n",
        "    self.relu = CustomReLu()\n",
        "    self.dense2 = CustomDense(output_dim)\n",
        "\n",
        "  def call(self,inputs):\n",
        "    x = self.dense1(inputs)\n",
        "    x = self.relu(x)\n",
        "    return self.dense2(x)\n"
      ],
      "metadata": {
        "id": "tqKwwKyFO3vz"
      },
      "execution_count": 4,
      "outputs": []
    },
    {
      "cell_type": "markdown",
      "source": [
        "Creating an instance of model class"
      ],
      "metadata": {
        "id": "r1Bw3aYgTmXs"
      }
    },
    {
      "cell_type": "code",
      "source": [
        "model = MyCustomModel(units = 64, output_dim=1)"
      ],
      "metadata": {
        "id": "0iXYOwlVTjPX"
      },
      "execution_count": 5,
      "outputs": []
    },
    {
      "cell_type": "code",
      "source": [
        "model.compile(optimizer = 'adam',\n",
        "              loss = 'mse',\n",
        "              metrics = ['mae'])"
      ],
      "metadata": {
        "id": "5WBo8kGmTza3"
      },
      "execution_count": 6,
      "outputs": []
    },
    {
      "cell_type": "code",
      "source": [
        "model.build(input_shape=(None, 8))"
      ],
      "metadata": {
        "colab": {
          "base_uri": "https://localhost:8080/"
        },
        "id": "XAWJCBDGZlV1",
        "outputId": "a1b57be2-aeea-49c9-a66a-0d90f6752458"
      },
      "execution_count": 7,
      "outputs": [
        {
          "output_type": "stream",
          "name": "stderr",
          "text": [
            "/usr/local/lib/python3.10/dist-packages/keras/src/layers/layer.py:372: UserWarning: `build()` was called on layer 'my_custom_model', however the layer does not have a `build()` method implemented and it looks like it has unbuilt state. This will cause the layer to be marked as built, despite not being actually built, which may cause failures down the line. Make sure to implement a proper `build()` method.\n",
            "  warnings.warn(\n"
          ]
        }
      ]
    },
    {
      "cell_type": "code",
      "source": [
        "import numpy as np\n",
        "X = np.random.random((100, 8))\n",
        "y = np.random.random((100, 1))\n"
      ],
      "metadata": {
        "id": "6lyd8RBvULSt"
      },
      "execution_count": 8,
      "outputs": []
    },
    {
      "cell_type": "code",
      "source": [
        "model.fit(X,y,epochs = 5,batch_size =10)"
      ],
      "metadata": {
        "colab": {
          "base_uri": "https://localhost:8080/"
        },
        "id": "8Lu8_vZpUbRz",
        "outputId": "f8b8a6e8-9cc5-48d2-de0b-8e1fca1ca04c"
      },
      "execution_count": 9,
      "outputs": [
        {
          "output_type": "stream",
          "name": "stdout",
          "text": [
            "Epoch 1/5\n",
            "\u001b[1m10/10\u001b[0m \u001b[32m━━━━━━━━━━━━━━━━━━━━\u001b[0m\u001b[37m\u001b[0m \u001b[1m4s\u001b[0m 6ms/step - loss: 0.2165 - mae: 0.3587\n",
            "Epoch 2/5\n",
            "\u001b[1m10/10\u001b[0m \u001b[32m━━━━━━━━━━━━━━━━━━━━\u001b[0m\u001b[37m\u001b[0m \u001b[1m0s\u001b[0m 3ms/step - loss: 0.1571 - mae: 0.3168 \n",
            "Epoch 3/5\n",
            "\u001b[1m10/10\u001b[0m \u001b[32m━━━━━━━━━━━━━━━━━━━━\u001b[0m\u001b[37m\u001b[0m \u001b[1m0s\u001b[0m 3ms/step - loss: 0.1394 - mae: 0.2949 \n",
            "Epoch 4/5\n",
            "\u001b[1m10/10\u001b[0m \u001b[32m━━━━━━━━━━━━━━━━━━━━\u001b[0m\u001b[37m\u001b[0m \u001b[1m0s\u001b[0m 2ms/step - loss: 0.1157 - mae: 0.2733 \n",
            "Epoch 5/5\n",
            "\u001b[1m10/10\u001b[0m \u001b[32m━━━━━━━━━━━━━━━━━━━━\u001b[0m\u001b[37m\u001b[0m \u001b[1m0s\u001b[0m 3ms/step - loss: 0.1154 - mae: 0.2776 \n"
          ]
        },
        {
          "output_type": "execute_result",
          "data": {
            "text/plain": [
              "<keras.src.callbacks.history.History at 0x7b943f8ff2b0>"
            ]
          },
          "metadata": {},
          "execution_count": 9
        }
      ]
    },
    {
      "cell_type": "code",
      "source": [],
      "metadata": {
        "id": "OhXlUxK2aH-F"
      },
      "execution_count": 9,
      "outputs": []
    }
  ]
}
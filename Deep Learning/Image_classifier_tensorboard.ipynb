{
 "cells": [
  {
   "cell_type": "code",
   "execution_count": 1,
   "id": "484f22f4-b9b9-4e6b-9748-dfc5be0ef625",
   "metadata": {},
   "outputs": [],
   "source": [
    "%load_ext tensorboard"
   ]
  },
  {
   "cell_type": "code",
   "execution_count": 35,
   "id": "b2675b7f-700b-44b1-90b9-4ccaa9cf3715",
   "metadata": {},
   "outputs": [],
   "source": [
    "import numpy as np\n",
    "import matplotlib.pyplot as plt\n",
    "import tensorflow as tf\n",
    "import io, itertools\n",
    "from datetime import datetime\n",
    "from tensorflow import keras,summary\n",
    "from tensorflow.keras.datasets import fashion_mnist\n",
    "from tensorflow.keras import layers,models,callbacks\n",
    "from sklearn.metrics import confusion_matrix"
   ]
  },
  {
   "cell_type": "code",
   "execution_count": 7,
   "id": "f88d8817-4d61-4785-ae0e-f84adf271a7f",
   "metadata": {},
   "outputs": [],
   "source": [
    "(train_img,train_labels),(test_img,test_labels) = fashion_mnist.load_data()"
   ]
  },
  {
   "cell_type": "code",
   "execution_count": 9,
   "id": "43ea51a7-8b67-4b3a-866b-4d370fe81ea1",
   "metadata": {},
   "outputs": [
    {
     "name": "stderr",
     "output_type": "stream",
     "text": [
      "C:\\Users\\adhithyan\\AppData\\Local\\Temp\\ipykernel_28940\\3112368462.py:1: RuntimeWarning: divide by zero encountered in divide\n",
      "  train_img,test_img = 255.0 / train_img, 255.0 / test_img\n"
     ]
    }
   ],
   "source": [
    "train_img,test_img = 255.0 / train_img, 255.0 / test_img"
   ]
  },
  {
   "cell_type": "code",
   "execution_count": 21,
   "id": "1d632754-6e02-41d7-beb3-d92b1a5fa924",
   "metadata": {},
   "outputs": [],
   "source": [
    "class_name = ['T-shirt/top','Trousers','Pullover','Dress','Coat','Sandels','Shirt','Sneakers','Bag','Ankle boot']"
   ]
  },
  {
   "cell_type": "code",
   "execution_count": 23,
   "id": "396242e8-dec6-4f93-afda-1ccc4d22bd42",
   "metadata": {},
   "outputs": [
    {
     "name": "stdout",
     "output_type": "stream",
     "text": [
      "shape : (28, 28)\n",
      "label : 9 -> Ankle boot\n"
     ]
    }
   ],
   "source": [
    "print('shape :',train_img[0].shape)\n",
    "print('label :',train_labels[0], '->' , class_name[train_labels[0]])"
   ]
  },
  {
   "cell_type": "code",
   "execution_count": 13,
   "id": "aa64437e-296a-423c-bc10-64032a4940f3",
   "metadata": {},
   "outputs": [],
   "source": [
    "model = models.Sequential([\n",
    "    layers.Flatten(input_shape = (28,28)),\n",
    "    layers.Dense(32, activation = 'relu'),\n",
    "    layers.Dense(10, activation = 'softmax')\n",
    "])"
   ]
  },
  {
   "cell_type": "code",
   "execution_count": 15,
   "id": "df80526a-da6a-4836-acda-ff5c37219931",
   "metadata": {},
   "outputs": [],
   "source": [
    "model.compile(\n",
    "    optimizer = 'adam',\n",
    "    loss = 'sparse_categorical_crossentropy',\n",
    "    metrics = ['accuracy']\n",
    ")"
   ]
  },
  {
   "cell_type": "code",
   "execution_count": 103,
   "id": "aabeebd9-a57d-4fd5-bd91-76dc1796951c",
   "metadata": {},
   "outputs": [],
   "source": [
    "def plot_to_img(figure):\n",
    "    buf = io.BytesIO()\n",
    "    plt.savefig(buf, format = 'png')\n",
    "    plt.close(figure)\n",
    "    buf.seek(0)\n",
    "    image = tf.image.decode_png(buf.getvalue(), channels = 4)\n",
    "    image = tf.expand_dims(image, 0)\n",
    "    return image"
   ]
  },
  {
   "cell_type": "code",
   "execution_count": 111,
   "id": "5455e20e-4b07-430d-a04e-11ca3cc99cb0",
   "metadata": {},
   "outputs": [],
   "source": [
    "def plot_confusion_matrix(cm, class_name):\n",
    "    figure = plt.figure(figsize = (8,8))\n",
    "    plt.imshow(cm, interpolation = 'nearest', cmap = plt.cm.Blues)\n",
    "\n",
    "    plt.title('confusion matrix')\n",
    "    plt.colorbar()\n",
    "\n",
    "    tick_marks = np.arange(len(class_name))\n",
    "    plt.xticks(tick_marks, class_name, rotation = 45)\n",
    "    plt.yticks(tick_marks, class_name)\n",
    "\n",
    "    labels = np.around(cm.astype('float') / cm.sum(axis = 1)[:, np.newaxis],decimals = 2)\n",
    "\n",
    "    threshold = cm.max() / 2\n",
    "    for i, j in itertools.product(range(cm.shape[0]),range(cm.shape[1])):\n",
    "        color = 'white' if cm[i,j] > threshold else 'black'\n",
    "        plt.text (j,i , labels[i,j],horizontalalignment = 'center', color = color)\n",
    "\n",
    "    plt.tight_layout()\n",
    "    plt.ylabel('True labels')\n",
    "    plt.xlabel('Predicted labels')\n",
    "    return(figure)"
   ]
  },
  {
   "cell_type": "code",
   "execution_count": 33,
   "id": "cd942635-6838-4d6b-9a71-e964652fe914",
   "metadata": {},
   "outputs": [],
   "source": [
    "import shutil\n",
    "shutil.rmtree('./logs/', ignore_errors=True)"
   ]
  },
  {
   "cell_type": "code",
   "execution_count": 43,
   "id": "17dd1a8d-37bc-45de-9935-a42ee30a85a0",
   "metadata": {},
   "outputs": [],
   "source": [
    "logdir = 'logs/image/' + datetime.now().strftime('%Y%m%d - %H%M%S')\n",
    "tensorboard_callback = callbacks.TensorBoard(log_dir = logdir)\n",
    "file_writer_cm = summary.create_file_writer(logdir +'/cm')"
   ]
  },
  {
   "cell_type": "code",
   "execution_count": 71,
   "id": "6ad1b111-ce42-4c35-98d1-ca72bb4e18f1",
   "metadata": {},
   "outputs": [],
   "source": [
    "def log_confusion_matrix(epochs,logs):\n",
    "    test_pred_raw = model.predict(test_img)\n",
    "    test_pred = np.argmax(test_pred_raw,axis = 1)\n",
    "\n",
    "    cm = confusion_matrix(test_pred, test_labels)\n",
    "    figure = plot_confusion_matrix(cm, class_name = class_name)\n",
    "    cm_image = plot_to_img(figure)\n",
    "\n",
    "    with file_writer_cm.as_default():\n",
    "        summary.image('epoch_confusion_matric',cm_image,step = epochs)\n",
    "cm_callback = callbacks.LambdaCallback(on_epoch_end = log_confusion_matrix)"
   ]
  },
  {
   "cell_type": "code",
   "execution_count": 113,
   "id": "5d50be40-203f-4e9b-a9a4-8bbbede6e0f1",
   "metadata": {},
   "outputs": [
    {
     "data": {
      "text/plain": [
       "Reusing TensorBoard on port 6007 (pid 10000), started 0:17:37 ago. (Use '!kill 10000' to kill it.)"
      ]
     },
     "metadata": {},
     "output_type": "display_data"
    },
    {
     "data": {
      "text/html": [
       "\n",
       "      <iframe id=\"tensorboard-frame-85a96011a298fd6c\" width=\"100%\" height=\"800\" frameborder=\"0\">\n",
       "      </iframe>\n",
       "      <script>\n",
       "        (function() {\n",
       "          const frame = document.getElementById(\"tensorboard-frame-85a96011a298fd6c\");\n",
       "          const url = new URL(\"/\", window.location);\n",
       "          const port = 6007;\n",
       "          if (port) {\n",
       "            url.port = port;\n",
       "          }\n",
       "          frame.src = url;\n",
       "        })();\n",
       "      </script>\n",
       "    "
      ],
      "text/plain": [
       "<IPython.core.display.HTML object>"
      ]
     },
     "metadata": {},
     "output_type": "display_data"
    },
    {
     "name": "stdout",
     "output_type": "stream",
     "text": [
      "\u001b[1m313/313\u001b[0m \u001b[32m━━━━━━━━━━━━━━━━━━━━\u001b[0m\u001b[37m\u001b[0m \u001b[1m1s\u001b[0m 3ms/step\n"
     ]
    },
    {
     "name": "stderr",
     "output_type": "stream",
     "text": [
      "C:\\Users\\adhithyan\\AppData\\Local\\Temp\\ipykernel_28940\\3845664024.py:12: RuntimeWarning: invalid value encountered in divide\n",
      "  labels = np.around(cm.astype('float') / cm.sum(axis = 1)[:, np.newaxis],decimals = 2)\n"
     ]
    },
    {
     "name": "stdout",
     "output_type": "stream",
     "text": [
      "\u001b[1m313/313\u001b[0m \u001b[32m━━━━━━━━━━━━━━━━━━━━\u001b[0m\u001b[37m\u001b[0m \u001b[1m1s\u001b[0m 3ms/step\n"
     ]
    },
    {
     "name": "stderr",
     "output_type": "stream",
     "text": [
      "C:\\Users\\adhithyan\\AppData\\Local\\Temp\\ipykernel_28940\\3845664024.py:12: RuntimeWarning: invalid value encountered in divide\n",
      "  labels = np.around(cm.astype('float') / cm.sum(axis = 1)[:, np.newaxis],decimals = 2)\n"
     ]
    },
    {
     "name": "stdout",
     "output_type": "stream",
     "text": [
      "\u001b[1m313/313\u001b[0m \u001b[32m━━━━━━━━━━━━━━━━━━━━\u001b[0m\u001b[37m\u001b[0m \u001b[1m1s\u001b[0m 2ms/step\n"
     ]
    },
    {
     "name": "stderr",
     "output_type": "stream",
     "text": [
      "C:\\Users\\adhithyan\\AppData\\Local\\Temp\\ipykernel_28940\\3845664024.py:12: RuntimeWarning: invalid value encountered in divide\n",
      "  labels = np.around(cm.astype('float') / cm.sum(axis = 1)[:, np.newaxis],decimals = 2)\n"
     ]
    },
    {
     "name": "stdout",
     "output_type": "stream",
     "text": [
      "\u001b[1m313/313\u001b[0m \u001b[32m━━━━━━━━━━━━━━━━━━━━\u001b[0m\u001b[37m\u001b[0m \u001b[1m1s\u001b[0m 2ms/step\n"
     ]
    },
    {
     "name": "stderr",
     "output_type": "stream",
     "text": [
      "C:\\Users\\adhithyan\\AppData\\Local\\Temp\\ipykernel_28940\\3845664024.py:12: RuntimeWarning: invalid value encountered in divide\n",
      "  labels = np.around(cm.astype('float') / cm.sum(axis = 1)[:, np.newaxis],decimals = 2)\n"
     ]
    },
    {
     "name": "stdout",
     "output_type": "stream",
     "text": [
      "\u001b[1m313/313\u001b[0m \u001b[32m━━━━━━━━━━━━━━━━━━━━\u001b[0m\u001b[37m\u001b[0m \u001b[1m1s\u001b[0m 2ms/step\n"
     ]
    },
    {
     "name": "stderr",
     "output_type": "stream",
     "text": [
      "C:\\Users\\adhithyan\\AppData\\Local\\Temp\\ipykernel_28940\\3845664024.py:12: RuntimeWarning: invalid value encountered in divide\n",
      "  labels = np.around(cm.astype('float') / cm.sum(axis = 1)[:, np.newaxis],decimals = 2)\n"
     ]
    },
    {
     "data": {
      "text/plain": [
       "<keras.src.callbacks.history.History at 0x1e2a0e713a0>"
      ]
     },
     "execution_count": 113,
     "metadata": {},
     "output_type": "execute_result"
    }
   ],
   "source": [
    "%tensorboard --logdir logs/image --port=6007\n",
    "model.fit(train_img,\n",
    "         train_labels,\n",
    "         epochs = 5,\n",
    "         verbose = 0,\n",
    "         callbacks = [tensorboard_callback,cm_callback],\n",
    "         validation_data = (test_img,test_labels))"
   ]
  },
  {
   "cell_type": "code",
   "execution_count": null,
   "id": "7c815d12-9821-4882-8ae7-eddc42c7cd07",
   "metadata": {},
   "outputs": [],
   "source": []
  }
 ],
 "metadata": {
  "kernelspec": {
   "display_name": "Python 3 (ipykernel)",
   "language": "python",
   "name": "python3"
  },
  "language_info": {
   "codemirror_mode": {
    "name": "ipython",
    "version": 3
   },
   "file_extension": ".py",
   "mimetype": "text/x-python",
   "name": "python",
   "nbconvert_exporter": "python",
   "pygments_lexer": "ipython3",
   "version": "3.12.4"
  }
 },
 "nbformat": 4,
 "nbformat_minor": 5
}

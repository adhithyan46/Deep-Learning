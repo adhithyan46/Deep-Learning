{
 "cells": [
  {
   "cell_type": "code",
   "execution_count": 3,
   "id": "4f12bc9e-af8b-48a8-a60c-f2627e5cf1e6",
   "metadata": {},
   "outputs": [],
   "source": [
    "import tensorflow as tf\n",
    "from tensorflow import keras\n",
    "from tensorflow.keras.datasets import mnist\n",
    "from tensorflow.keras import layers , models\n",
    "from tensorflow.keras.layers import Dense, Flatten, Input, Dropout\n",
    "import sklearn.metrics"
   ]
  },
  {
   "cell_type": "code",
   "execution_count": 11,
   "id": "b2587485-cc34-4d6a-9eb2-3353bb3be4fe",
   "metadata": {},
   "outputs": [],
   "source": [
    "(x_train,y_train), (x_test,y_test) = mnist.load_data()"
   ]
  },
  {
   "cell_type": "code",
   "execution_count": 13,
   "id": "07eaa5d2-e64a-4869-b5aa-23d372730968",
   "metadata": {},
   "outputs": [],
   "source": [
    "x_train = x_train.reshape(60000, 784).astype('float32') / 255.0\n",
    "x_test = x_test.reshape(10000, 784).astype('float32') / 255.0"
   ]
  },
  {
   "cell_type": "code",
   "execution_count": 14,
   "id": "176a7931-a8cf-4089-827f-75e240fc00c2",
   "metadata": {},
   "outputs": [],
   "source": [
    "input = Input(shape=(784, ))"
   ]
  },
  {
   "cell_type": "code",
   "execution_count": 15,
   "id": "2b6fccac-9088-4cd0-be3f-6c5f46f9d94c",
   "metadata": {},
   "outputs": [],
   "source": [
    "img_input = Input(shape=(32,32,3))"
   ]
  },
  {
   "cell_type": "code",
   "execution_count": 16,
   "id": "85d60dd1-203c-43e5-92a4-ee167ccf968b",
   "metadata": {},
   "outputs": [],
   "source": [
    "x = Flatten()(input)"
   ]
  },
  {
   "cell_type": "code",
   "execution_count": 17,
   "id": "8d4ecf79-780d-44ee-8f5b-52613a914ef7",
   "metadata": {},
   "outputs": [],
   "source": [
    "x = Dense(64,activation = 'relu')(x)\n",
    "x = Dense(64,activation = 'relu')(x)"
   ]
  },
  {
   "cell_type": "code",
   "execution_count": 18,
   "id": "c505d5ba-22fb-42f7-9798-126885b8e963",
   "metadata": {},
   "outputs": [],
   "source": [
    "output = Dense(10,activation = 'softmax')(x)"
   ]
  },
  {
   "cell_type": "code",
   "execution_count": 19,
   "id": "dea7cf6e-fca2-44eb-b68b-e1e4379c35d5",
   "metadata": {},
   "outputs": [],
   "source": [
    "model = models.Model(inputs = input, outputs = output)"
   ]
  },
  {
   "cell_type": "code",
   "execution_count": 20,
   "id": "b3959de4-520d-4c2e-b85b-3cbf79419ee4",
   "metadata": {},
   "outputs": [],
   "source": [
    "model.compile(\n",
    "    optimizer = 'RMSprop',\n",
    "    loss = 'sparse_categorical_crossentropy',\n",
    "    metrics = ['accuracy']\n",
    ")"
   ]
  },
  {
   "cell_type": "code",
   "execution_count": 21,
   "id": "bada8845-704f-41bb-95ee-04b6c785aa87",
   "metadata": {},
   "outputs": [
    {
     "name": "stdout",
     "output_type": "stream",
     "text": [
      "Epoch 1/2\n",
      "\u001b[1m750/750\u001b[0m \u001b[32m━━━━━━━━━━━━━━━━━━━━\u001b[0m\u001b[37m\u001b[0m \u001b[1m5s\u001b[0m 4ms/step - accuracy: 0.8305 - loss: 0.6077 - val_accuracy: 0.9483 - val_loss: 0.1782\n",
      "Epoch 2/2\n",
      "\u001b[1m750/750\u001b[0m \u001b[32m━━━━━━━━━━━━━━━━━━━━\u001b[0m\u001b[37m\u001b[0m \u001b[1m3s\u001b[0m 4ms/step - accuracy: 0.9496 - loss: 0.1707 - val_accuracy: 0.9593 - val_loss: 0.1405\n"
     ]
    }
   ],
   "source": [
    "history = model.fit(x_train,y_train, batch_size = 64, epochs = 2, validation_split = 0.2)"
   ]
  },
  {
   "cell_type": "code",
   "execution_count": 22,
   "id": "0857e048-b63b-462e-9523-e4001eb35a61",
   "metadata": {},
   "outputs": [
    {
     "name": "stdout",
     "output_type": "stream",
     "text": [
      "313/313 - 1s - 2ms/step - accuracy: 0.9571 - loss: 0.1405\n",
      "test loss : 0.14052054286003113\n",
      "test accuracy : 0.957099974155426\n"
     ]
    }
   ],
   "source": [
    "test_score = model.evaluate(x_test,y_test,verbose = 2)\n",
    "print('test loss :',test_score[0])\n",
    "print('test accuracy :',test_score[1])"
   ]
  },
  {
   "cell_type": "code",
   "execution_count": 34,
   "id": "97563969-9c3d-4980-93f2-82532851fb0b",
   "metadata": {},
   "outputs": [],
   "source": [
    "model.save('My_model.keras')"
   ]
  },
  {
   "cell_type": "code",
   "execution_count": 36,
   "id": "5930faeb-86cd-48e7-921b-c740fc522ae2",
   "metadata": {},
   "outputs": [],
   "source": [
    "del model"
   ]
  },
  {
   "cell_type": "code",
   "execution_count": 38,
   "id": "fb0f2c97-cb10-477a-815a-55fcd296ae2c",
   "metadata": {},
   "outputs": [],
   "source": [
    "model = models.load_model('My_model.keras')"
   ]
  },
  {
   "cell_type": "code",
   "execution_count": null,
   "id": "abcc937d-7706-4725-a8e6-7717dc6bf14f",
   "metadata": {},
   "outputs": [],
   "source": []
  }
 ],
 "metadata": {
  "kernelspec": {
   "display_name": "Python 3 (ipykernel)",
   "language": "python",
   "name": "python3"
  },
  "language_info": {
   "codemirror_mode": {
    "name": "ipython",
    "version": 3
   },
   "file_extension": ".py",
   "mimetype": "text/x-python",
   "name": "python",
   "nbconvert_exporter": "python",
   "pygments_lexer": "ipython3",
   "version": "3.12.4"
  }
 },
 "nbformat": 4,
 "nbformat_minor": 5
}

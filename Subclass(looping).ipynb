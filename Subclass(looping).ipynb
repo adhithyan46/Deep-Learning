{
  "nbformat": 4,
  "nbformat_minor": 0,
  "metadata": {
    "colab": {
      "provenance": [],
      "authorship_tag": "ABX9TyNHWePQh8/dlX0kMIzi6LTo",
      "include_colab_link": true
    },
    "kernelspec": {
      "name": "python3",
      "display_name": "Python 3"
    },
    "language_info": {
      "name": "python"
    }
  },
  "cells": [
    {
      "cell_type": "markdown",
      "metadata": {
        "id": "view-in-github",
        "colab_type": "text"
      },
      "source": [
        "<a href=\"https://colab.research.google.com/github/adhithyan46/Deep-Learning/blob/main/Subclass(looping).ipynb\" target=\"_parent\"><img src=\"https://colab.research.google.com/assets/colab-badge.svg\" alt=\"Open In Colab\"/></a>"
      ]
    },
    {
      "cell_type": "code",
      "execution_count": 1,
      "metadata": {
        "id": "-mEdgr3CGgIk"
      },
      "outputs": [],
      "source": [
        "import tensorflow as tf"
      ]
    },
    {
      "cell_type": "code",
      "source": [
        "class Dense(tf.keras.layers.Layer):\n",
        "  def __init__(self,units, activation):\n",
        "    super(Dense,self).__init__()\n",
        "    self.units = units\n",
        "    self.units = units\n",
        "\n",
        "  def build(self,input_shape):\n",
        "    self.w = self.add_weight(shape = (input_shape[-1],self.units))\n",
        "    self.b = self.add_weight(shape = (self.units))\n",
        "\n",
        "  def call(self,inputs):\n",
        "    z = tf.matmul(inputs,self.w) + self.b\n",
        "    if self.activation :\n",
        "      return self.activation(z)\n",
        "    return"
      ],
      "metadata": {
        "id": "QucvGVsRGn9U"
      },
      "execution_count": 2,
      "outputs": []
    },
    {
      "cell_type": "code",
      "source": [
        "class MyModel(tf.keras.Model):\n",
        "  def __init__(self):\n",
        "    super(MyModel,self).__init__()\n",
        "    self.dense1 = Dense(128, activation = tf.nn.relu)\n",
        "    self.dense2 = Dense(64, activation = tf.nn.relu)\n",
        "    self.dense3 = Dense(10, activation = tf.nn.softmax)\n",
        "\n",
        "  def call(self,inputs):\n",
        "    x = self.dense1(inputs)\n",
        "    x = self.dense2(x)\n",
        "    return self.dense3(x)\n",
        "\n",
        "  def training_step(self, data):\n",
        "    x,y = data\n",
        "    with tf.GradientTape() as tape:\n",
        "      y_pred = self(x, training = True)\n",
        "      loss = self.compile_loss(y, y_pred)\n",
        "\n",
        "    #calculating gradient and applying\n",
        "\n",
        "    grads = tape.gradient(loss, self.trainable_variables)\n",
        "    self.optimizer.apply_gradients(zip(grads, self.trainable_variables))\n",
        "\n",
        "  def test_step(self,data):\n",
        "    x,y = data\n",
        "    y_pred = self(x, training = False)\n",
        "    loss = self.compile_loss(y, y_pred)\n",
        "\n",
        "    return{'loss':loss}"
      ],
      "metadata": {
        "id": "c5zFy7jgIfyb"
      },
      "execution_count": 4,
      "outputs": []
    },
    {
      "cell_type": "code",
      "source": [
        "model = MyModel()"
      ],
      "metadata": {
        "id": "uIBHJpevOprg"
      },
      "execution_count": 5,
      "outputs": []
    },
    {
      "cell_type": "code",
      "source": [
        "model.compile(\n",
        "    optimizer = 'adam',\n",
        "    loss = 'categorical_crossentropy'\n",
        ")"
      ],
      "metadata": {
        "id": "_Q-0HvGWPVs3"
      },
      "execution_count": 6,
      "outputs": []
    },
    {
      "cell_type": "code",
      "source": [],
      "metadata": {
        "id": "vfW1h4xEPrZW"
      },
      "execution_count": null,
      "outputs": []
    }
  ]
}